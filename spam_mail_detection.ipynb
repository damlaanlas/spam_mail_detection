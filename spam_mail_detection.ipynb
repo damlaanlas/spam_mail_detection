{
 "cells": [
  {
   "cell_type": "code",
   "execution_count": 68,
   "id": "f8559509",
   "metadata": {},
   "outputs": [],
   "source": [
    "import pandas as pd, numpy as np\n",
    "import os, re"
   ]
  },
  {
   "cell_type": "markdown",
   "id": "f94325d2",
   "metadata": {},
   "source": [
    "# Reading in the csv using pandas"
   ]
  },
  {
   "cell_type": "code",
   "execution_count": 69,
   "id": "874e0af7",
   "metadata": {},
   "outputs": [
    {
     "data": {
      "text/html": [
       "<div>\n",
       "<style scoped>\n",
       "    .dataframe tbody tr th:only-of-type {\n",
       "        vertical-align: middle;\n",
       "    }\n",
       "\n",
       "    .dataframe tbody tr th {\n",
       "        vertical-align: top;\n",
       "    }\n",
       "\n",
       "    .dataframe thead th {\n",
       "        text-align: right;\n",
       "    }\n",
       "</style>\n",
       "<table border=\"1\" class=\"dataframe\">\n",
       "  <thead>\n",
       "    <tr style=\"text-align: right;\">\n",
       "      <th></th>\n",
       "      <th>v1</th>\n",
       "      <th>v2</th>\n",
       "      <th>Unnamed: 2</th>\n",
       "      <th>Unnamed: 3</th>\n",
       "      <th>Unnamed: 4</th>\n",
       "    </tr>\n",
       "  </thead>\n",
       "  <tbody>\n",
       "    <tr>\n",
       "      <th>0</th>\n",
       "      <td>ham</td>\n",
       "      <td>Go until jurong point, crazy.. Available only ...</td>\n",
       "      <td>NaN</td>\n",
       "      <td>NaN</td>\n",
       "      <td>NaN</td>\n",
       "    </tr>\n",
       "    <tr>\n",
       "      <th>1</th>\n",
       "      <td>ham</td>\n",
       "      <td>Ok lar... Joking wif u oni...</td>\n",
       "      <td>NaN</td>\n",
       "      <td>NaN</td>\n",
       "      <td>NaN</td>\n",
       "    </tr>\n",
       "    <tr>\n",
       "      <th>2</th>\n",
       "      <td>spam</td>\n",
       "      <td>Free entry in 2 a wkly comp to win FA Cup fina...</td>\n",
       "      <td>NaN</td>\n",
       "      <td>NaN</td>\n",
       "      <td>NaN</td>\n",
       "    </tr>\n",
       "    <tr>\n",
       "      <th>3</th>\n",
       "      <td>ham</td>\n",
       "      <td>U dun say so early hor... U c already then say...</td>\n",
       "      <td>NaN</td>\n",
       "      <td>NaN</td>\n",
       "      <td>NaN</td>\n",
       "    </tr>\n",
       "    <tr>\n",
       "      <th>4</th>\n",
       "      <td>ham</td>\n",
       "      <td>Nah I don't think he goes to usf, he lives aro...</td>\n",
       "      <td>NaN</td>\n",
       "      <td>NaN</td>\n",
       "      <td>NaN</td>\n",
       "    </tr>\n",
       "    <tr>\n",
       "      <th>5</th>\n",
       "      <td>spam</td>\n",
       "      <td>FreeMsg Hey there darling it's been 3 week's n...</td>\n",
       "      <td>NaN</td>\n",
       "      <td>NaN</td>\n",
       "      <td>NaN</td>\n",
       "    </tr>\n",
       "    <tr>\n",
       "      <th>6</th>\n",
       "      <td>ham</td>\n",
       "      <td>Even my brother is not like to speak with me. ...</td>\n",
       "      <td>NaN</td>\n",
       "      <td>NaN</td>\n",
       "      <td>NaN</td>\n",
       "    </tr>\n",
       "    <tr>\n",
       "      <th>7</th>\n",
       "      <td>ham</td>\n",
       "      <td>As per your request 'Melle Melle (Oru Minnamin...</td>\n",
       "      <td>NaN</td>\n",
       "      <td>NaN</td>\n",
       "      <td>NaN</td>\n",
       "    </tr>\n",
       "    <tr>\n",
       "      <th>8</th>\n",
       "      <td>spam</td>\n",
       "      <td>WINNER!! As a valued network customer you have...</td>\n",
       "      <td>NaN</td>\n",
       "      <td>NaN</td>\n",
       "      <td>NaN</td>\n",
       "    </tr>\n",
       "    <tr>\n",
       "      <th>9</th>\n",
       "      <td>spam</td>\n",
       "      <td>Had your mobile 11 months or more? U R entitle...</td>\n",
       "      <td>NaN</td>\n",
       "      <td>NaN</td>\n",
       "      <td>NaN</td>\n",
       "    </tr>\n",
       "  </tbody>\n",
       "</table>\n",
       "</div>"
      ],
      "text/plain": [
       "     v1                                                 v2 Unnamed: 2  \\\n",
       "0   ham  Go until jurong point, crazy.. Available only ...        NaN   \n",
       "1   ham                      Ok lar... Joking wif u oni...        NaN   \n",
       "2  spam  Free entry in 2 a wkly comp to win FA Cup fina...        NaN   \n",
       "3   ham  U dun say so early hor... U c already then say...        NaN   \n",
       "4   ham  Nah I don't think he goes to usf, he lives aro...        NaN   \n",
       "5  spam  FreeMsg Hey there darling it's been 3 week's n...        NaN   \n",
       "6   ham  Even my brother is not like to speak with me. ...        NaN   \n",
       "7   ham  As per your request 'Melle Melle (Oru Minnamin...        NaN   \n",
       "8  spam  WINNER!! As a valued network customer you have...        NaN   \n",
       "9  spam  Had your mobile 11 months or more? U R entitle...        NaN   \n",
       "\n",
       "  Unnamed: 3 Unnamed: 4  \n",
       "0        NaN        NaN  \n",
       "1        NaN        NaN  \n",
       "2        NaN        NaN  \n",
       "3        NaN        NaN  \n",
       "4        NaN        NaN  \n",
       "5        NaN        NaN  \n",
       "6        NaN        NaN  \n",
       "7        NaN        NaN  \n",
       "8        NaN        NaN  \n",
       "9        NaN        NaN  "
      ]
     },
     "execution_count": 69,
     "metadata": {},
     "output_type": "execute_result"
    }
   ],
   "source": [
    "mail_data = pd.read_csv('spam.csv',encoding=\"ISO-8859-1\")\n",
    "mail_data.head(10)"
   ]
  },
  {
   "cell_type": "code",
   "execution_count": 70,
   "id": "cb3e3895",
   "metadata": {},
   "outputs": [
    {
     "data": {
      "text/plain": [
       "ham     0.865937\n",
       "spam    0.134063\n",
       "Name: v1, dtype: float64"
      ]
     },
     "execution_count": 70,
     "metadata": {},
     "output_type": "execute_result"
    }
   ],
   "source": [
    "mail_data.v1.value_counts(normalize=True)"
   ]
  },
  {
   "cell_type": "code",
   "execution_count": 71,
   "id": "71b34fea",
   "metadata": {},
   "outputs": [
    {
     "data": {
      "text/plain": [
       "'Carry on not disturbing both of you'"
      ]
     },
     "execution_count": 71,
     "metadata": {},
     "output_type": "execute_result"
    }
   ],
   "source": [
    "mail_data.v2.sample().values[0]"
   ]
  },
  {
   "cell_type": "markdown",
   "id": "4c4be3fb",
   "metadata": {},
   "source": [
    "# Get the mails into a list for easy test cleaning and manipulation"
   ]
  },
  {
   "cell_type": "code",
   "execution_count": 72,
   "id": "5f79a46f",
   "metadata": {},
   "outputs": [],
   "source": [
    "mail = mail_data.v2.values"
   ]
  },
  {
   "cell_type": "code",
   "execution_count": 73,
   "id": "8a7e5e55",
   "metadata": {},
   "outputs": [
    {
     "data": {
      "text/plain": [
       "5572"
      ]
     },
     "execution_count": 73,
     "metadata": {},
     "output_type": "execute_result"
    }
   ],
   "source": [
    "len(mail)"
   ]
  },
  {
   "cell_type": "code",
   "execution_count": 74,
   "id": "b00f7555",
   "metadata": {},
   "outputs": [
    {
     "data": {
      "text/plain": [
       "array(['Go until jurong point, crazy.. Available only in bugis n great world la e buffet... Cine there got amore wat...',\n",
       "       'Ok lar... Joking wif u oni...',\n",
       "       \"Free entry in 2 a wkly comp to win FA Cup final tkts 21st May 2005. Text FA to 87121 to receive entry question(std txt rate)T&C's apply 08452810075over18's\",\n",
       "       'U dun say so early hor... U c already then say...',\n",
       "       \"Nah I don't think he goes to usf, he lives around here though\"],\n",
       "      dtype=object)"
      ]
     },
     "execution_count": 74,
     "metadata": {},
     "output_type": "execute_result"
    }
   ],
   "source": [
    "mail[:5]"
   ]
  },
  {
   "cell_type": "markdown",
   "id": "fbe09fa0",
   "metadata": {},
   "source": [
    "# Normalizing case"
   ]
  },
  {
   "cell_type": "code",
   "execution_count": 75,
   "id": "76b3e93f",
   "metadata": {},
   "outputs": [],
   "source": [
    "mail_lower = [mails.lower() for mails in mail]"
   ]
  },
  {
   "cell_type": "code",
   "execution_count": 76,
   "id": "ba8e164e",
   "metadata": {},
   "outputs": [
    {
     "data": {
      "text/plain": [
       "['go until jurong point, crazy.. available only in bugis n great world la e buffet... cine there got amore wat...',\n",
       " 'ok lar... joking wif u oni...',\n",
       " \"free entry in 2 a wkly comp to win fa cup final tkts 21st may 2005. text fa to 87121 to receive entry question(std txt rate)t&c's apply 08452810075over18's\",\n",
       " 'u dun say so early hor... u c already then say...',\n",
       " \"nah i don't think he goes to usf, he lives around here though\"]"
      ]
     },
     "execution_count": 76,
     "metadata": {},
     "output_type": "execute_result"
    }
   ],
   "source": [
    "mail_lower[:5]"
   ]
  },
  {
   "cell_type": "markdown",
   "id": "df4732d4",
   "metadata": {},
   "source": [
    "# Remove @"
   ]
  },
  {
   "cell_type": "code",
   "execution_count": 77,
   "id": "8d707244",
   "metadata": {},
   "outputs": [],
   "source": [
    "import re"
   ]
  },
  {
   "cell_type": "code",
   "execution_count": 78,
   "id": "8c70e33c",
   "metadata": {},
   "outputs": [],
   "source": [
    "mail_nouser = [re.sub(\"@\\w+\",\"\", mails) for mails in mail_lower]"
   ]
  },
  {
   "cell_type": "code",
   "execution_count": 79,
   "id": "0126a937",
   "metadata": {},
   "outputs": [
    {
     "data": {
      "text/plain": [
       "['go until jurong point, crazy.. available only in bugis n great world la e buffet... cine there got amore wat...',\n",
       " 'ok lar... joking wif u oni...',\n",
       " \"free entry in 2 a wkly comp to win fa cup final tkts 21st may 2005. text fa to 87121 to receive entry question(std txt rate)t&c's apply 08452810075over18's\",\n",
       " 'u dun say so early hor... u c already then say...',\n",
       " \"nah i don't think he goes to usf, he lives around here though\"]"
      ]
     },
     "execution_count": 79,
     "metadata": {},
     "output_type": "execute_result"
    }
   ],
   "source": [
    "mail_nouser[:5]"
   ]
  },
  {
   "cell_type": "markdown",
   "id": "e24e0bec",
   "metadata": {},
   "source": [
    "# Token using Tweet Tokenizer form NLTK"
   ]
  },
  {
   "cell_type": "code",
   "execution_count": 80,
   "id": "5db54ec8",
   "metadata": {},
   "outputs": [],
   "source": [
    "from nltk.tokenize import TweetTokenizer"
   ]
  },
  {
   "cell_type": "code",
   "execution_count": 81,
   "id": "59b665e9",
   "metadata": {},
   "outputs": [],
   "source": [
    "mails = TweetTokenizer()"
   ]
  },
  {
   "cell_type": "code",
   "execution_count": 82,
   "id": "7476fa3b",
   "metadata": {},
   "outputs": [
    {
     "name": "stdout",
     "output_type": "stream",
     "text": [
      "['go', 'until', 'jurong', 'point', ',', 'crazy', '..', 'available', 'only', 'in', 'bugis', 'n', 'great', 'world', 'la', 'e', 'buffet', '...', 'cine', 'there', 'got', 'amore', 'wat', '...']\n"
     ]
    }
   ],
   "source": [
    "print(mails.tokenize(mail_nouser[0]))"
   ]
  },
  {
   "cell_type": "code",
   "execution_count": 83,
   "id": "eae07f1a",
   "metadata": {},
   "outputs": [
    {
     "name": "stdout",
     "output_type": "stream",
     "text": [
      "['go', 'until', 'jurong', 'point', ',', 'crazy', '..', 'available', 'only', 'in', 'bugis', 'n', 'great', 'world', 'la', 'e', 'buffet', '...', 'cine', 'there', 'got', 'amore', 'wat', '...']\n"
     ]
    }
   ],
   "source": [
    "mails_token = [mails.tokenize(sent) for sent in mail_nouser]\n",
    "print(mails_token[0])"
   ]
  },
  {
   "cell_type": "markdown",
   "id": "5243bff3",
   "metadata": {},
   "source": [
    "# Remove punctuations and stop words"
   ]
  },
  {
   "cell_type": "code",
   "execution_count": 84,
   "id": "a914f739",
   "metadata": {},
   "outputs": [],
   "source": [
    "from nltk.corpus import stopwords\n",
    "from string import punctuation"
   ]
  },
  {
   "cell_type": "code",
   "execution_count": 85,
   "id": "cf683d6b",
   "metadata": {},
   "outputs": [],
   "source": [
    "stop_nltk = stopwords.words(\"english\")\n",
    "stop_punct = list(punctuation)"
   ]
  },
  {
   "cell_type": "code",
   "execution_count": 86,
   "id": "e289370c",
   "metadata": {},
   "outputs": [],
   "source": [
    "stop_punct.extend(['...','``',\"''\",\"..\",\"?\",\"/\",\"#\"])"
   ]
  },
  {
   "cell_type": "code",
   "execution_count": 87,
   "id": "01ff6cee",
   "metadata": {},
   "outputs": [],
   "source": [
    "stop_final = stop_nltk + stop_punct "
   ]
  },
  {
   "cell_type": "code",
   "execution_count": 88,
   "id": "e761b0a8",
   "metadata": {},
   "outputs": [],
   "source": [
    "def del_stop(sent):\n",
    "    return [re.sub(\"#\",\"\",term) for term in sent if ((term not in stop_final) & (len(term)>1))]"
   ]
  },
  {
   "cell_type": "code",
   "execution_count": 89,
   "id": "c8ddc357",
   "metadata": {},
   "outputs": [
    {
     "data": {
      "text/plain": [
       "['nah', 'think', 'goes', 'usf', 'lives', 'around', 'though']"
      ]
     },
     "execution_count": 89,
     "metadata": {},
     "output_type": "execute_result"
    }
   ],
   "source": [
    "del_stop(mails_token[4])"
   ]
  },
  {
   "cell_type": "code",
   "execution_count": 90,
   "id": "fc9e79b8",
   "metadata": {},
   "outputs": [],
   "source": [
    "mail_clean = [del_stop(mail) for mail in mails_token]"
   ]
  },
  {
   "cell_type": "markdown",
   "id": "5f4a6f34",
   "metadata": {},
   "source": [
    "# Checkout the top terms in the mails"
   ]
  },
  {
   "cell_type": "code",
   "execution_count": 91,
   "id": "3d7c5c65",
   "metadata": {},
   "outputs": [],
   "source": [
    "from collections import Counter"
   ]
  },
  {
   "cell_type": "code",
   "execution_count": 92,
   "id": "3fb476ce",
   "metadata": {},
   "outputs": [],
   "source": [
    "term_list = []\n",
    "for mail in mail_clean:\n",
    "    term_list.extend(mail)"
   ]
  },
  {
   "cell_type": "code",
   "execution_count": 93,
   "id": "f02c9c39",
   "metadata": {
    "scrolled": true
   },
   "outputs": [
    {
     "data": {
      "text/plain": [
       "[('call', 592),\n",
       " (\"i'm\", 394),\n",
       " ('get', 388),\n",
       " ('ur', 385),\n",
       " ('ok', 284),\n",
       " ('free', 280),\n",
       " ('go', 279),\n",
       " ('<>', 276),\n",
       " ('know', 261),\n",
       " (':)', 251)]"
      ]
     },
     "execution_count": 93,
     "metadata": {},
     "output_type": "execute_result"
    }
   ],
   "source": [
    "res = Counter(term_list)\n",
    "res.most_common(10)"
   ]
  },
  {
   "cell_type": "markdown",
   "id": "ddc36de2",
   "metadata": {},
   "source": [
    "# Join the tokens back into strings"
   ]
  },
  {
   "cell_type": "code",
   "execution_count": 94,
   "id": "7a0b2326",
   "metadata": {},
   "outputs": [
    {
     "data": {
      "text/plain": [
       "['go',\n",
       " 'jurong',\n",
       " 'point',\n",
       " 'crazy',\n",
       " 'available',\n",
       " 'bugis',\n",
       " 'great',\n",
       " 'world',\n",
       " 'la',\n",
       " 'buffet',\n",
       " 'cine',\n",
       " 'got',\n",
       " 'amore',\n",
       " 'wat']"
      ]
     },
     "execution_count": 94,
     "metadata": {},
     "output_type": "execute_result"
    }
   ],
   "source": [
    "mail_clean[0]"
   ]
  },
  {
   "cell_type": "code",
   "execution_count": 95,
   "id": "1486a3c5",
   "metadata": {},
   "outputs": [],
   "source": [
    "mail_clean = [\" \".join(mail) for mail in mail_clean]"
   ]
  },
  {
   "cell_type": "code",
   "execution_count": 96,
   "id": "9291d04a",
   "metadata": {},
   "outputs": [
    {
     "data": {
      "text/plain": [
       "'go jurong point crazy available bugis great world la buffet cine got amore wat'"
      ]
     },
     "execution_count": 96,
     "metadata": {},
     "output_type": "execute_result"
    }
   ],
   "source": [
    "mail_clean[0]"
   ]
  },
  {
   "cell_type": "markdown",
   "id": "c95fc805",
   "metadata": {},
   "source": [
    "# Seperate x and y and perform train test split "
   ]
  },
  {
   "cell_type": "code",
   "execution_count": 97,
   "id": "7677367f",
   "metadata": {},
   "outputs": [
    {
     "data": {
      "text/plain": [
       "5572"
      ]
     },
     "execution_count": 97,
     "metadata": {},
     "output_type": "execute_result"
    }
   ],
   "source": [
    "len(mail_clean)"
   ]
  },
  {
   "cell_type": "code",
   "execution_count": 98,
   "id": "3a30b3e1",
   "metadata": {},
   "outputs": [
    {
     "data": {
      "text/plain": [
       "5572"
      ]
     },
     "execution_count": 98,
     "metadata": {},
     "output_type": "execute_result"
    }
   ],
   "source": [
    "len(mail_data.v1)"
   ]
  },
  {
   "cell_type": "code",
   "execution_count": 99,
   "id": "9a26e37f",
   "metadata": {},
   "outputs": [],
   "source": [
    "X = mail_clean\n",
    "y = mail_data.v1.values"
   ]
  },
  {
   "cell_type": "code",
   "execution_count": 100,
   "id": "7ef66f15",
   "metadata": {
    "scrolled": true
   },
   "outputs": [],
   "source": [
    "from sklearn.model_selection import train_test_split\n",
    "X_train, X_test, y_train, y_test = train_test_split(X, y, test_size = 0.30, random_state=42)"
   ]
  },
  {
   "cell_type": "markdown",
   "id": "caae7c05",
   "metadata": {},
   "source": [
    "# Create a document term metric using count vectorizer"
   ]
  },
  {
   "cell_type": "code",
   "execution_count": 101,
   "id": "43ad5b0e",
   "metadata": {},
   "outputs": [],
   "source": [
    "from sklearn.feature_extraction.text import TfidfVectorizer"
   ]
  },
  {
   "cell_type": "code",
   "execution_count": 102,
   "id": "1a776993",
   "metadata": {},
   "outputs": [],
   "source": [
    "vectorizer = TfidfVectorizer(max_features = 5566)"
   ]
  },
  {
   "cell_type": "code",
   "execution_count": 103,
   "id": "34f6f9d7",
   "metadata": {},
   "outputs": [
    {
     "data": {
      "text/plain": [
       "(3900, 1672)"
      ]
     },
     "execution_count": 103,
     "metadata": {},
     "output_type": "execute_result"
    }
   ],
   "source": [
    "len(X_train), len(X_test)"
   ]
  },
  {
   "cell_type": "code",
   "execution_count": 104,
   "id": "45fe5408",
   "metadata": {},
   "outputs": [],
   "source": [
    "X_train_bow = vectorizer.fit_transform(X_train)\n",
    "\n",
    "X_test_bow = vectorizer.transform(X_test)"
   ]
  },
  {
   "cell_type": "code",
   "execution_count": 105,
   "id": "5cb388ca",
   "metadata": {
    "scrolled": true
   },
   "outputs": [
    {
     "data": {
      "text/plain": [
       "((3900, 5566), (1672, 5566))"
      ]
     },
     "execution_count": 105,
     "metadata": {},
     "output_type": "execute_result"
    }
   ],
   "source": [
    "X_train_bow.shape, X_test_bow.shape"
   ]
  },
  {
   "cell_type": "markdown",
   "id": "b89c2e50",
   "metadata": {},
   "source": [
    "# Using a simple logistic regression"
   ]
  },
  {
   "cell_type": "code",
   "execution_count": 106,
   "id": "78aef24c",
   "metadata": {},
   "outputs": [],
   "source": [
    "from sklearn.linear_model import LogisticRegression"
   ]
  },
  {
   "cell_type": "code",
   "execution_count": 107,
   "id": "48ca70e8",
   "metadata": {},
   "outputs": [],
   "source": [
    "logreg = LogisticRegression()"
   ]
  },
  {
   "cell_type": "code",
   "execution_count": 108,
   "id": "eb5a6ba9",
   "metadata": {},
   "outputs": [
    {
     "data": {
      "text/plain": [
       "LogisticRegression()"
      ]
     },
     "execution_count": 108,
     "metadata": {},
     "output_type": "execute_result"
    }
   ],
   "source": [
    "logreg.fit(X_train_bow, y_train)"
   ]
  },
  {
   "cell_type": "code",
   "execution_count": 109,
   "id": "ee642243",
   "metadata": {},
   "outputs": [],
   "source": [
    "y_train_pred = logreg.predict(X_train_bow)\n",
    "y_test_pred = logreg.predict(X_test_bow)"
   ]
  },
  {
   "cell_type": "code",
   "execution_count": 110,
   "id": "5bb7e490",
   "metadata": {},
   "outputs": [],
   "source": [
    "from sklearn.metrics import accuracy_score, classification_report"
   ]
  },
  {
   "cell_type": "code",
   "execution_count": 111,
   "id": "9fccb09d",
   "metadata": {},
   "outputs": [
    {
     "data": {
      "text/plain": [
       "0.9705128205128205"
      ]
     },
     "execution_count": 111,
     "metadata": {},
     "output_type": "execute_result"
    }
   ],
   "source": [
    "accuracy_score(y_train, y_train_pred)"
   ]
  },
  {
   "cell_type": "code",
   "execution_count": 112,
   "id": "3ad20b2d",
   "metadata": {},
   "outputs": [
    {
     "name": "stdout",
     "output_type": "stream",
     "text": [
      "              precision    recall  f1-score   support\n",
      "\n",
      "         ham       0.97      1.00      0.98      3372\n",
      "        spam       0.99      0.79      0.88       528\n",
      "\n",
      "    accuracy                           0.97      3900\n",
      "   macro avg       0.98      0.90      0.93      3900\n",
      "weighted avg       0.97      0.97      0.97      3900\n",
      "\n"
     ]
    }
   ],
   "source": [
    "print(classification_report(y_train, y_train_pred))"
   ]
  },
  {
   "cell_type": "markdown",
   "id": "07f64c2f",
   "metadata": {},
   "source": [
    "# Adjusting for class imbalance"
   ]
  },
  {
   "cell_type": "markdown",
   "id": "2a08466b",
   "metadata": {},
   "source": [
    "# Logistic Regression"
   ]
  },
  {
   "cell_type": "code",
   "execution_count": 113,
   "id": "9a4ecf5d",
   "metadata": {},
   "outputs": [],
   "source": [
    "logreg = LogisticRegression(class_weight=\"balanced\")"
   ]
  },
  {
   "cell_type": "code",
   "execution_count": 114,
   "id": "1f393d15",
   "metadata": {},
   "outputs": [
    {
     "data": {
      "text/plain": [
       "LogisticRegression(class_weight='balanced')"
      ]
     },
     "execution_count": 114,
     "metadata": {},
     "output_type": "execute_result"
    }
   ],
   "source": [
    "logreg.fit(X_train_bow, y_train)"
   ]
  },
  {
   "cell_type": "code",
   "execution_count": 115,
   "id": "f5c221c2",
   "metadata": {},
   "outputs": [],
   "source": [
    "y_train_pred = logreg.predict(X_train_bow)\n",
    "y_test_pred = logreg.predict(X_test_bow)"
   ]
  },
  {
   "cell_type": "code",
   "execution_count": 116,
   "id": "5c4e7c52",
   "metadata": {
    "scrolled": true
   },
   "outputs": [
    {
     "data": {
      "text/plain": [
       "0.9884615384615385"
      ]
     },
     "execution_count": 116,
     "metadata": {},
     "output_type": "execute_result"
    }
   ],
   "source": [
    "accuracy_score(y_train, y_train_pred)"
   ]
  },
  {
   "cell_type": "code",
   "execution_count": 117,
   "id": "00bffb4d",
   "metadata": {
    "scrolled": true
   },
   "outputs": [
    {
     "name": "stdout",
     "output_type": "stream",
     "text": [
      "              precision    recall  f1-score   support\n",
      "\n",
      "         ham       1.00      0.99      0.99      3372\n",
      "        spam       0.93      0.99      0.96       528\n",
      "\n",
      "    accuracy                           0.99      3900\n",
      "   macro avg       0.96      0.99      0.98      3900\n",
      "weighted avg       0.99      0.99      0.99      3900\n",
      "\n"
     ]
    }
   ],
   "source": [
    "print(classification_report(y_train, y_train_pred))"
   ]
  },
  {
   "cell_type": "markdown",
   "id": "0c924f4d",
   "metadata": {},
   "source": [
    "# Naive Bayes"
   ]
  },
  {
   "cell_type": "code",
   "execution_count": 118,
   "id": "743f5f1c",
   "metadata": {},
   "outputs": [],
   "source": [
    "from sklearn.naive_bayes import MultinomialNB"
   ]
  },
  {
   "cell_type": "code",
   "execution_count": 119,
   "id": "163622e7",
   "metadata": {},
   "outputs": [],
   "source": [
    "Multinom = MultinomialNB()"
   ]
  },
  {
   "cell_type": "code",
   "execution_count": 120,
   "id": "6eb60529",
   "metadata": {},
   "outputs": [
    {
     "data": {
      "text/plain": [
       "MultinomialNB()"
      ]
     },
     "execution_count": 120,
     "metadata": {},
     "output_type": "execute_result"
    }
   ],
   "source": [
    "Multinom.fit(X_train_bow, y_train)"
   ]
  },
  {
   "cell_type": "code",
   "execution_count": 121,
   "id": "7df61eb3",
   "metadata": {},
   "outputs": [],
   "source": [
    "y_train_pred = Multinom.predict(X_train_bow)\n",
    "y_test_pred = Multinom.predict(X_test_bow)"
   ]
  },
  {
   "cell_type": "code",
   "execution_count": 122,
   "id": "ffb84705",
   "metadata": {},
   "outputs": [
    {
     "data": {
      "text/plain": [
       "0.9853846153846154"
      ]
     },
     "execution_count": 122,
     "metadata": {},
     "output_type": "execute_result"
    }
   ],
   "source": [
    "accuracy_score(y_train, y_train_pred)"
   ]
  },
  {
   "cell_type": "code",
   "execution_count": 123,
   "id": "cf29d06d",
   "metadata": {},
   "outputs": [
    {
     "name": "stdout",
     "output_type": "stream",
     "text": [
      "              precision    recall  f1-score   support\n",
      "\n",
      "         ham       0.98      1.00      0.99      3372\n",
      "        spam       1.00      0.89      0.94       528\n",
      "\n",
      "    accuracy                           0.99      3900\n",
      "   macro avg       0.99      0.95      0.97      3900\n",
      "weighted avg       0.99      0.99      0.99      3900\n",
      "\n"
     ]
    }
   ],
   "source": [
    "print(classification_report(y_train, y_train_pred))"
   ]
  },
  {
   "cell_type": "markdown",
   "id": "80ce993d",
   "metadata": {},
   "source": [
    "# Random Forest"
   ]
  },
  {
   "cell_type": "code",
   "execution_count": 124,
   "id": "c7b81eed",
   "metadata": {},
   "outputs": [],
   "source": [
    "from sklearn.ensemble import RandomForestClassifier\n",
    "rf = RandomForestClassifier()"
   ]
  },
  {
   "cell_type": "code",
   "execution_count": 125,
   "id": "15d71b90",
   "metadata": {},
   "outputs": [
    {
     "data": {
      "text/plain": [
       "RandomForestClassifier()"
      ]
     },
     "execution_count": 125,
     "metadata": {},
     "output_type": "execute_result"
    }
   ],
   "source": [
    "rf.fit(X_train_bow, y_train)"
   ]
  },
  {
   "cell_type": "code",
   "execution_count": 126,
   "id": "950c4530",
   "metadata": {},
   "outputs": [],
   "source": [
    "y_train_pred = rf.predict(X_train_bow)\n",
    "y_test_pred = rf.predict(X_test_bow)"
   ]
  },
  {
   "cell_type": "code",
   "execution_count": 127,
   "id": "b40942ab",
   "metadata": {
    "scrolled": true
   },
   "outputs": [
    {
     "data": {
      "text/plain": [
       "1.0"
      ]
     },
     "execution_count": 127,
     "metadata": {},
     "output_type": "execute_result"
    }
   ],
   "source": [
    "accuracy_score(y_train, y_train_pred)"
   ]
  },
  {
   "cell_type": "code",
   "execution_count": 128,
   "id": "6ed2fdfc",
   "metadata": {},
   "outputs": [
    {
     "name": "stdout",
     "output_type": "stream",
     "text": [
      "              precision    recall  f1-score   support\n",
      "\n",
      "         ham       1.00      1.00      1.00      3372\n",
      "        spam       1.00      1.00      1.00       528\n",
      "\n",
      "    accuracy                           1.00      3900\n",
      "   macro avg       1.00      1.00      1.00      3900\n",
      "weighted avg       1.00      1.00      1.00      3900\n",
      "\n"
     ]
    }
   ],
   "source": [
    "print(classification_report(y_train, y_train_pred))"
   ]
  },
  {
   "cell_type": "markdown",
   "id": "e800c855",
   "metadata": {},
   "source": [
    "# KNN"
   ]
  },
  {
   "cell_type": "code",
   "execution_count": 129,
   "id": "23dd4f01",
   "metadata": {},
   "outputs": [],
   "source": [
    "from sklearn.neighbors import NearestCentroid"
   ]
  },
  {
   "cell_type": "code",
   "execution_count": 130,
   "id": "3ad9816b",
   "metadata": {},
   "outputs": [],
   "source": [
    "knn = NearestCentroid()"
   ]
  },
  {
   "cell_type": "code",
   "execution_count": 131,
   "id": "34ee1581",
   "metadata": {},
   "outputs": [
    {
     "data": {
      "text/plain": [
       "NearestCentroid()"
      ]
     },
     "execution_count": 131,
     "metadata": {},
     "output_type": "execute_result"
    }
   ],
   "source": [
    "knn.fit(X_train_bow, y_train)"
   ]
  },
  {
   "cell_type": "code",
   "execution_count": 132,
   "id": "a5745fb6",
   "metadata": {},
   "outputs": [],
   "source": [
    "y_train_pred = Multinom.predict(X_train_bow)\n",
    "y_test_pred = Multinom.predict(X_test_bow)"
   ]
  },
  {
   "cell_type": "code",
   "execution_count": 133,
   "id": "08e3415d",
   "metadata": {},
   "outputs": [
    {
     "data": {
      "text/plain": [
       "0.9853846153846154"
      ]
     },
     "execution_count": 133,
     "metadata": {},
     "output_type": "execute_result"
    }
   ],
   "source": [
    "accuracy_score(y_train, y_train_pred)"
   ]
  },
  {
   "cell_type": "code",
   "execution_count": 134,
   "id": "8ccb5138",
   "metadata": {},
   "outputs": [
    {
     "name": "stdout",
     "output_type": "stream",
     "text": [
      "              precision    recall  f1-score   support\n",
      "\n",
      "         ham       0.98      1.00      0.99      3372\n",
      "        spam       1.00      0.89      0.94       528\n",
      "\n",
      "    accuracy                           0.99      3900\n",
      "   macro avg       0.99      0.95      0.97      3900\n",
      "weighted avg       0.99      0.99      0.99      3900\n",
      "\n"
     ]
    }
   ],
   "source": [
    "print(classification_report(y_train, y_train_pred))"
   ]
  }
 ],
 "metadata": {
  "kernelspec": {
   "display_name": "Python 3 (ipykernel)",
   "language": "python",
   "name": "python3"
  },
  "language_info": {
   "codemirror_mode": {
    "name": "ipython",
    "version": 3
   },
   "file_extension": ".py",
   "mimetype": "text/x-python",
   "name": "python",
   "nbconvert_exporter": "python",
   "pygments_lexer": "ipython3",
   "version": "3.9.12"
  }
 },
 "nbformat": 4,
 "nbformat_minor": 5
}
